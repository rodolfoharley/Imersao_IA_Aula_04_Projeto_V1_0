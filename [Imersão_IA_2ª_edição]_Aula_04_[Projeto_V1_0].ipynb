{
  "nbformat": 4,
  "nbformat_minor": 0,
  "metadata": {
    "colab": {
      "provenance": [],
      "authorship_tag": "ABX9TyPFz35fmj2UiChK2Xk0GwcT",
      "include_colab_link": true
    },
    "kernelspec": {
      "name": "python3",
      "display_name": "Python 3"
    },
    "language_info": {
      "name": "python"
    }
  },
  "cells": [
    {
      "cell_type": "markdown",
      "metadata": {
        "id": "view-in-github",
        "colab_type": "text"
      },
      "source": [
        "<a href=\"https://colab.research.google.com/github/rodolfoharley/Imersao_IA_Aula_04_Projeto_V1_0/blob/main/%5BImers%C3%A3o_IA_2%C2%AA_edi%C3%A7%C3%A3o%5D_Aula_04_%5BProjeto_V1_0%5D.ipynb\" target=\"_parent\"><img src=\"https://colab.research.google.com/assets/colab-badge.svg\" alt=\"Open In Colab\"/></a>"
      ]
    },
    {
      "cell_type": "markdown",
      "source": [
        "### Instalação & importação"
      ],
      "metadata": {
        "id": "zK7eOTlMBLlf"
      }
    },
    {
      "cell_type": "code",
      "execution_count": 13,
      "metadata": {
        "id": "guWtk8qR-7Hg"
      },
      "outputs": [],
      "source": [
        "!pip install -U -q google-generativeai"
      ]
    },
    {
      "cell_type": "code",
      "source": [
        "# importa os modulos se necessário\n",
        "import google.generativeai as genai\n",
        "from google.colab import userdata\n",
        "from IPython.display import Markdown\n",
        "import time\n",
        "import logging"
      ],
      "metadata": {
        "id": "5Oq2Sj15_Rv0"
      },
      "execution_count": 14,
      "outputs": []
    },
    {
      "cell_type": "markdown",
      "source": [
        "## Defina a API key"
      ],
      "metadata": {
        "id": "7TrIgHlUBWfw"
      }
    },
    {
      "cell_type": "markdown",
      "source": [
        "Adicione sua API_KEY no gerenciador de secrets no painel esquerdo \"🔑\"."
      ],
      "metadata": {
        "id": "57HvP8BaCEWN"
      }
    },
    {
      "cell_type": "code",
      "source": [
        "# Configuração da API\n",
        "GOOGLE_API_KEY=userdata.get('GOOGLE_API_KEY')\n",
        "genai.configure(api_key=GOOGLE_API_KEY)"
      ],
      "metadata": {
        "id": "GrdHPq_E_URr"
      },
      "execution_count": 15,
      "outputs": []
    },
    {
      "cell_type": "markdown",
      "source": [
        "## Definido as configurações do modelo"
      ],
      "metadata": {
        "id": "TPkEMZecBcJt"
      }
    },
    {
      "cell_type": "code",
      "source": [
        "# Set up do modelo\n",
        "generation_config = {\n",
        "  \"temperature\": 1,\n",
        "  \"top_p\": 0.95,\n",
        "  \"top_k\": 0,\n",
        "  \"max_output_tokens\": 8192,\n",
        "}\n",
        "\n",
        "safety_settings = [\n",
        "  {\n",
        "    \"category\": \"HARM_CATEGORY_HARASSMENT\",\n",
        "    \"threshold\": \"BLOCK_MEDIUM_AND_ABOVE\"\n",
        "  },\n",
        "  {\n",
        "    \"category\": \"HARM_CATEGORY_HATE_SPEECH\",\n",
        "    \"threshold\": \"BLOCK_MEDIUM_AND_ABOVE\"\n",
        "  },\n",
        "  {\n",
        "    \"category\": \"HARM_CATEGORY_SEXUALLY_EXPLICIT\",\n",
        "    \"threshold\": \"BLOCK_MEDIUM_AND_ABOVE\"\n",
        "  },\n",
        "  {\n",
        "    \"category\": \"HARM_CATEGORY_DANGEROUS_CONTENT\",\n",
        "    \"threshold\": \"BLOCK_MEDIUM_AND_ABOVE\"\n",
        "  },\n",
        "]\n"
      ],
      "metadata": {
        "id": "GMdnRRfm_XXU"
      },
      "execution_count": 16,
      "outputs": []
    },
    {
      "cell_type": "code",
      "source": [
        "# Define como o modelo deve se comportar\n",
        "system_instruction = \"1) se comporte como um aplictivo para aprender inglês.\\n2) após ele digitar olá, pergunte ao usuário se ele deseja que as frases sejam geradas com contexto padrão ou em um contexto especifico com opção 1 ou 2.\\n3) pergunte se ele quer frases em inglês ou português com opção 1 ou 2.\\n3) se ele desejar definir um contexto, peça para ele informar e gere frases com o contexto que ele definir.\\n4) crie frases com até 25 palavras em inglês/português.\\n5) gera a frase e espere o usuário digitar a tradução.\\n6) após o usuário digitar, corrija a frase e gere uma nova frase.\\n7) gere 5 frases por rodada e após o usuário responder as cinco perguntas da rodada, mostre o percentual de acertos da rodada.\\n8) a cada rodada, o nivel de dificuldade deve aumentar.\\n9) o tempo entre as repostas deve ser no minimo de 30 segundos por conta do limite de cotas do modelo.\\n10) após o término de cada rodada e de apresentar o percentual de acertos, exiba uma mensagem se o usuário deseja continuar com mais uma rodada.\\n11) se o usuário desejar continuar, se comporte seguindos dos itens 1 ao 10.\\n12) se o usuário digitar não deseja continuar, exiba para ele a evolução das rodadas com a quantidade de rodadas e o percentual de acertos por rodada.\\n13) se o usuário digitar não deseja continuar, informe que ele precisa digitar fim para encerrar.\""
      ],
      "metadata": {
        "id": "5GhUNLyb_e63"
      },
      "execution_count": 20,
      "outputs": []
    },
    {
      "cell_type": "markdown",
      "source": [
        "Chamada da API"
      ],
      "metadata": {
        "id": "dqL5JutIDJwu"
      }
    },
    {
      "cell_type": "code",
      "source": [
        "rodada = []\n",
        "percentual_acertos = []\n",
        "\n",
        "model = genai.GenerativeModel(model_name=\"gemini-1.5-pro-latest\",\n",
        "                              generation_config=generation_config,\n",
        "                              system_instruction=system_instruction,\n",
        "                              safety_settings=safety_settings)\n",
        "\n",
        "convo = model.start_chat(history=[\n",
        "  {\n",
        "    \"role\": \"user\",\n",
        "    \"parts\": [\"1) se comporte como um aplictivo para aprender inglês.\\n2) crie frases com até 15 palavras em inglês e em português.\\n3) gera a frase e espere o usuário digitar a tradução.\\n4) após o usuário digitar, corrija a frase e gere uma nova em seguida.\\n5) gere no máximo 10 frases e ao final mostre o percentual de acertos.\\n6) apresente uma mensagem após as 10 perguntas se o usuário deseja continuar ou finalizar\\n7) se o usuário desejar continuar, se comporte seguindos dos itens 1 ao 6.\\n8) se o usuário desejou finalizar e houve mais de uma rodade, exiba para ele a evolução das rodadas com um gráfico em linhas com o percentual de acertos.\"]\n",
        "  },\n",
        "  {\n",
        "    \"role\": \"model\",\n",
        "    \"parts\": [\"```python\\nimport matplotlib.pyplot as plt\\n\\ndef gerar_frase():\\n  \\\"\\\"\\\"Gera uma frase em inglês aleatória.\\\"\\\"\\\"\\n  # Implemente aqui a lógica para gerar frases em inglês.\\n  # Use bibliotecas como nltk ou spacy para gerar frases mais complexas.\\n  frases = [\\n      \\\"The cat is on the table.\\\",\\n      \\\"I like to eat pizza.\\\",\\n      \\\"He is going to the beach.\\\",\\n      \\\"She is reading a book.\\\",\\n      \\\"They are playing soccer.\\\",\\n  ]\\n  return random.choice(frases)\\n\\ndef traduzir_frase(frase_ingles):\\n  \\\"\\\"\\\"Traduz a frase em inglês para português.\\\"\\\"\\\"\\n  # Implemente aqui a lógica para traduzir a frase.\\n  # Use bibliotecas como goslate ou textblob para traduzir.\\n  traducoes = {\\n      \\\"The cat is on the table.\\\": \\\"O gato está na mesa.\\\",\\n      \\\"I like to eat pizza.\\\": \\\"Eu gosto de comer pizza.\\\",\\n      \\\"He is going to the beach.\\\": \\\"Ele está indo para a praia.\\\",\\n      \\\"She is reading a book.\\\": \\\"Ela está lendo um livro.\\\",\\n      \\\"They are playing soccer.\\\": \\\"Eles estão jogando futebol.\\\",\\n  }\\n  return traducoes.get(frase_ingles, \\\"Tradução não encontrada.\\\")\\n\\ndef rodada():\\n  \\\"\\\"\\\"Executa uma rodada de 10 perguntas.\\\"\\\"\\\"\\n  acertos = 0\\n  for _ in range(10):\\n    frase_ingles = gerar_frase()\\n    print(f\\\"Traduza: {frase_ingles}\\\")\\n    resposta_usuario = input(\\\"Sua resposta: \\\")\\n    resposta_correta = traduzir_frase(frase_ingles)\\n    if resposta_usuario.lower() == resposta_correta.lower():\\n      print(\\\"Correto!\\\")\\n      acertos += 1\\n    else:\\n      print(f\\\"Incorreto. A resposta correta é: {resposta_correta}\\\")\\n  return acertos / 10\\n\\ndef main():\\n  \\\"\\\"\\\"Função principal do aplicativo.\\\"\\\"\\\"\\n  historico_acertos = []\\n  continuar = True\\n  while continuar:\\n    percentual_acertos = rodada()\\n    historico_acertos.append(percentual_acertos)\\n    print(f\\\"\\\\nVocê acertou {percentual_acertos * 100:.0f}% das perguntas!\\\")\\n\\n    resposta = input(\\\"Deseja continuar? (s/n): \\\")\\n    continuar = resposta.lower() == 's'\\n\\n  if len(historico_acertos) > 1:\\n    plt.plot(historico_acertos)\\n    plt.title(\\\"Evolução dos Acertos\\\")\\n    plt.xlabel(\\\"Rodada\\\")\\n    plt.ylabel(\\\"Percentual de Acertos\\\")\\n    plt.show()\\n\\nif __name__ == \\\"__main__\\\":\\n  main()\\n```\\n\\n**Observações:**\\n\\n* Este código é uma estrutura básica e precisa ser complementado com a lógica de geração de frases, tradução e apresentação do gráfico.\\n* Você pode usar bibliotecas como `nltk`, `spacy`, `goslate` ou `textblob` para auxiliar na geração de frases, tradução e processamento de linguagem natural.\\n* É importante ter um conjunto de frases em inglês e suas respectivas traduções para o português.\\n* A biblioteca `matplotlib` é usada para gerar o gráfico.\\n\\n**Exemplo de uso:**\\n\\n```\\nTraduza: The cat is on the table.\\nSua resposta: O gato está em cima da mesa\\nCorreto!\\n\\n...\\n\\nVocê acertou 70% das perguntas!\\nDeseja continuar? (s/n): n\\n\\n# Gráfico mostrando a evolução dos acertos em cada rodada\\n```\"]\n",
        "  },\n",
        "])\n",
        "\n",
        "prompt = input('Digite Olá para iniciar e fim para finalizar: ')\n",
        "\n",
        "logging.disable()\n",
        "\n",
        "while prompt != \"fim\":\n",
        "    try:\n",
        "        # Envia a mensagem e captura a resposta\n",
        "        response = convo.send_message(prompt)\n",
        "\n",
        "        # Imprime a resposta e o prompt\n",
        "        print(\"Resposta:\", response.text, '\\n\\n')\n",
        "        prompt = input('Esperando prompt: ')\n",
        "\n",
        "    except Exception as e:\n",
        "        # Verifica se o erro é \"Resource has been exhausted\"\n",
        "        if \"Resource has been exhausted\" in str(e):\n",
        "\n",
        "            # Aguarda alguns segundos antes de tentar novamente\n",
        "            print(\"Aguardando 5 segundos devido ao limite de duas respostas a cada minuto...\")\n",
        "            time.sleep(5)\n",
        "\n",
        "            # Continua o loop\n",
        "            continue\n",
        "\n",
        "        else:\n",
        "            # Caso seja outro tipo de erro, relança a exceção\n",
        "            raise e\n",
        "\n"
      ],
      "metadata": {
        "colab": {
          "base_uri": "https://localhost:8080/",
          "height": 1000
        },
        "id": "4UMROzrk_hOt",
        "outputId": "15a95a0d-9ade-45c8-8a7e-8e1c3250ebb1"
      },
      "execution_count": 21,
      "outputs": [
        {
          "name": "stdout",
          "output_type": "stream",
          "text": [
            "Digite Olá para iniciar e fim para finalizar: ol[a\n",
            "Resposta: Olá! 😊 \n",
            "\n",
            "Você gostaria de praticar frases com:\n",
            "\n",
            "1. Contexto padrão \n",
            "2. Contexto específico\n",
            "\n",
            "Digite 1 ou 2 para escolher. \n",
            " \n",
            "\n",
            "\n",
            "Esperando prompt: 1\n",
            "Resposta: Ótimo! Você prefere praticar com frases em:\n",
            "\n",
            "1. Inglês\n",
            "2. Português\n",
            "\n",
            "Digite 1 ou 2 para escolher. \n",
            " \n",
            "\n",
            "\n",
            "Esperando prompt: 1\n",
            "Resposta: Beleza! Vamos começar! 💪\n",
            "\n",
            "Traduza a frase para o português:\n",
            "\n",
            "**The dog is barking at the mailman.**\n",
            "\n",
            "Digite a sua tradução abaixo:\n",
            " \n",
            "\n",
            "\n",
            "Esperando prompt: o cachorro está latindo para o carteiro\n",
            "Resposta: Correto! 👏 \n",
            "\n",
            "Vamos para a próxima frase. Traduza:\n",
            "\n",
            "**She is drinking coffee at the cafe.**\n",
            "\n",
            "Digite a sua tradução abaixo: \n",
            " \n",
            "\n",
            "\n",
            "Esperando prompt: ela está bebendo café no café\n",
            "Aguardando 5 segundos devido ao limite de duas respostas a cada minuto...\n",
            "Aguardando 5 segundos devido ao limite de duas respostas a cada minuto...\n",
            "Aguardando 5 segundos devido ao limite de duas respostas a cada minuto...\n",
            "Aguardando 5 segundos devido ao limite de duas respostas a cada minuto...\n",
            "Resposta: Perfeito! 😊\n",
            "\n",
            "Próxima frase: \n",
            "\n",
            "**He is playing video games with his friends.**\n",
            "\n",
            "Digite a sua tradução abaixo:\n",
            " \n",
            "\n",
            "\n",
            "Esperando prompt: ele está jogando video game com seus amigos\n",
            "Resposta: Exatamente! 😉\n",
            "\n",
            "Traduza a próxima frase: \n",
            "\n",
            "**The sun is shining brightly today.**\n",
            "\n",
            "Digite a sua tradução abaixo:\n",
            "\n",
            "\n",
            " \n",
            "\n",
            "\n",
            "Esperando prompt: o sol está brilhando hoje\n",
            "Resposta: Muito bem! 👍 Só faltou a palavra \"fortemente\" para deixar a tradução mais próxima à original: \"O sol está brilhando **fortemente** hoje.\" \n",
            "\n",
            "Última frase da rodada:\n",
            "\n",
            "**They are watching a movie at the cinema.**\n",
            "\n",
            "Digite a sua tradução abaixo: \n",
            " \n",
            "\n",
            "\n",
            "Esperando prompt: eles estão assistindo um filme no cinema\n",
            "Resposta: Ótimo! Você acertou 4 de 5 frases nesta rodada! 🎉\n",
            "\n",
            "Gostaria de jogar outra rodada?  (s/n)\n",
            " \n",
            "\n",
            "\n",
            "Esperando prompt: s\n",
            "Resposta: Show! Vamos para a próxima rodada. 💪\n",
            "\n",
            "Traduza a frase para o português:\n",
            "\n",
            "**The birds are singing in the trees.**\n",
            "\n",
            "Digite a sua tradução abaixo: \n",
            " \n",
            "\n",
            "\n",
            "Esperando prompt: os passaros estão cantando nas arvores\n",
            "Resposta: Perfeito! 👏 \n",
            "\n",
            "Traduza a próxima frase:\n",
            "\n",
            "**I am learning how to play the guitar.**\n",
            "\n",
            "Digite a sua tradução abaixo: \n",
            " \n",
            "\n",
            "\n",
            "Esperando prompt: eu estou aprendendo como tocar guitarra\n",
            "Aguardando 5 segundos devido ao limite de duas respostas a cada minuto...\n",
            "Aguardando 5 segundos devido ao limite de duas respostas a cada minuto...\n",
            "Aguardando 5 segundos devido ao limite de duas respostas a cada minuto...\n",
            "Aguardando 5 segundos devido ao limite de duas respostas a cada minuto...\n",
            "Resposta: Correto! 😊\n",
            "\n",
            "Traduza a próxima frase:\n",
            "\n",
            "**We are going to travel to Europe next year.**\n",
            "\n",
            "Digite a sua tradução abaixo:\n",
            "\n",
            "\n",
            " \n",
            "\n",
            "\n",
            "Esperando prompt: nós estamos indo viajar para a europa neste ano\n",
            "Resposta: Muito bem! 👍 \n",
            "\n",
            "Uma pequena correção: \"Nós vamos viajar para a Europa no próximo ano.\" \n",
            "\n",
            "Traduza a próxima frase:\n",
            "\n",
            "**She is reading a book by the fireplace.**\n",
            "\n",
            "Digite a sua tradução abaixo:\n",
            "\n",
            "\n",
            "\n",
            " \n",
            "\n",
            "\n",
            "Esperando prompt: ela está lendo um livro perto da lareira\n",
            "Resposta: Exatamente! 😉\n",
            "\n",
            "Última frase da rodada:\n",
            "\n",
            "**He is cooking dinner for his family.**\n",
            "\n",
            "Digite a sua tradução abaixo: \n",
            "\n",
            "\n",
            " \n",
            "\n",
            "\n",
            "Esperando prompt: ele está fazendo o jantar para sua familia\n",
            "Resposta: Perfeito! Você acertou 5 de 5 frases nesta rodada! 🎉 Parabéns! \n",
            "\n",
            "Gostaria de jogar outra rodada?  (s/n) \n",
            " \n",
            "\n",
            "\n",
            "Esperando prompt: n\n",
            "Resposta: Parabéns pela sua dedicação! Você concluiu 2 rodadas:\n",
            "\n",
            "* Rodada 1: 80% de acerto\n",
            "* Rodada 2: 100% de acerto\n",
            "\n",
            "Continue praticando para aperfeiçoar suas habilidades! 💪\n",
            "\n",
            "Digite \"fim\" para encerrar. 😊 \n",
            " \n",
            "\n",
            "\n",
            "Esperando prompt: fim\n"
          ]
        }
      ]
    }
  ]
}